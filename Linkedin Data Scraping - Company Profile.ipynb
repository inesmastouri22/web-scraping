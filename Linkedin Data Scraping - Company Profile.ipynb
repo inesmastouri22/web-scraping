{
 "cells": [
  {
   "cell_type": "markdown",
   "id": "941c318d-d7f9-4f9b-ad61-b9a15aabc8ab",
   "metadata": {},
   "source": [
    "This is a example of data scraping from LinkedIn - Company Profile (I put IBM LinkedIn page as an example)"
   ]
  },
  {
   "cell_type": "code",
   "execution_count": 5,
   "id": "cbb7e675-5988-4a13-aa6d-2fd82c3c700a",
   "metadata": {},
   "outputs": [],
   "source": [
    "\n",
    "\n",
    "import requests\n",
    "\n",
    "api_key = 'You API Key'\n",
    "headers = {'Authorization': 'Bearer ' + api_key}\n",
    "api_endpoint = 'https://nubela.co/proxycurl/api/linkedin/company'\n",
    "params = {\n",
    "    'url': 'https://www.linkedin.com/company/ibm/posts/?feedView=all',\n",
    "    'categories': 'include',\n",
    "    'funding_data': 'include',\n",
    "    'exit_data': 'include',\n",
    "    'acquisitions': 'include',\n",
    "    'extra': 'include',\n",
    "    'use_cache': 'if-present',\n",
    "    'fallback_to_cache': 'on-error',\n",
    "}\n",
    "response = requests.get(api_endpoint,\n",
    "                        params=params,\n",
    "                        headers=headers)"
   ]
  },
  {
   "cell_type": "code",
   "execution_count": 6,
   "id": "23a18493-5722-4d58-abda-ef63a4d108f5",
   "metadata": {},
   "outputs": [
    {
     "data": {
      "text/plain": [
       "{'code': 403,\n",
       " 'description': 'Insufficient credits. You need 0 credits for this request. Please top-up your credits or modify your request.',\n",
       " 'name': 'Forbidden'}"
      ]
     },
     "execution_count": 6,
     "metadata": {},
     "output_type": "execute_result"
    }
   ],
   "source": [
    "company_data = response.json()\n",
    "company_data"
   ]
  },
  {
   "cell_type": "code",
   "execution_count": null,
   "id": "9220ef4b-42e8-4ede-8330-e15d99b5ec04",
   "metadata": {},
   "outputs": [],
   "source": []
  }
 ],
 "metadata": {
  "kernelspec": {
   "display_name": "Python 3 (ipykernel)",
   "language": "python",
   "name": "python3"
  },
  "language_info": {
   "codemirror_mode": {
    "name": "ipython",
    "version": 3
   },
   "file_extension": ".py",
   "mimetype": "text/x-python",
   "name": "python",
   "nbconvert_exporter": "python",
   "pygments_lexer": "ipython3",
   "version": "3.12.4"
  }
 },
 "nbformat": 4,
 "nbformat_minor": 5
}
